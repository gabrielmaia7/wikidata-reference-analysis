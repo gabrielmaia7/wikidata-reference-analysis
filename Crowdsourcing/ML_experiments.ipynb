{
 "cells": [
  {
   "cell_type": "markdown",
   "metadata": {},
   "source": [
    "# Why this code exists\n",
    "This notebook takes the final annotations dataset **final_annotations_set.csv**, and tries to train ML models to learn the annotation pattern.\n",
    "\n",
    "We first fix the annotations for tools.wmflabs.org references, as seen from the inaccessibility study.\n",
    "\n",
    "We then enrich the dataset by removing some bad features and adding better features / categorizing existing ones.\n",
    "\n",
    "We then run it through some models."
   ]
  },
  {
   "cell_type": "code",
   "execution_count": 1,
   "metadata": {},
   "outputs": [],
   "source": [
    "import json\n",
    "import copy\n",
    "import matplotlib.pyplot as plt\n",
    "import pandas as pd\n",
    "import seaborn as sns\n",
    "import requests"
   ]
  },
  {
   "cell_type": "code",
   "execution_count": 2,
   "metadata": {},
   "outputs": [
    {
     "name": "stdout",
     "output_type": "stream",
     "text": [
      "<class 'pandas.core.frame.DataFrame'>\n",
      "RangeIndex: 2310 entries, 0 to 2309\n",
      "Data columns (total 25 columns):\n",
      " #   Column                 Non-Null Count  Dtype  \n",
      "---  ------                 --------------  -----  \n",
      " 0   reference_id           2310 non-null   object \n",
      " 1   url                    2310 non-null   object \n",
      " 2   language_crawl         2310 non-null   object \n",
      " 3   statement_node         2310 non-null   object \n",
      " 4   subject                2310 non-null   object \n",
      " 5   predicate              2310 non-null   object \n",
      " 6   object                 2310 non-null   object \n",
      " 7   url_type               2310 non-null   object \n",
      " 8   is_inferred_from       2310 non-null   object \n",
      " 9   stated_in              2310 non-null   object \n",
      " 10  external_id_prop       2310 non-null   object \n",
      " 11  external_id            2310 non-null   object \n",
      " 12  internal_urls          2310 non-null   object \n",
      " 13  external_url           2310 non-null   object \n",
      " 14  wikimedia_import_urls  2310 non-null   object \n",
      " 15  retrieved              2310 non-null   object \n",
      " 16  publication_date       2310 non-null   object \n",
      " 17  is_present             2310 non-null   int64  \n",
      " 18  difficulty             2310 non-null   int64  \n",
      " 19  reason                 2310 non-null   int64  \n",
      " 20  author                 2310 non-null   int64  \n",
      " 21  publisher              2310 non-null   int64  \n",
      " 22  sub_publisher          2310 non-null   int64  \n",
      " 23  long_sub_publisher     2310 non-null   float64\n",
      " 24  authoritative          2310 non-null   object \n",
      "dtypes: float64(1), int64(6), object(18)\n",
      "memory usage: 451.3+ KB\n"
     ]
    }
   ],
   "source": [
    "final_annotation_set = pd.read_csv('data/final/all_aggregated_annotations/final_annotation_set.csv')\n",
    "final_annotation_set.info()"
   ]
  },
  {
   "cell_type": "code",
   "execution_count": 17,
   "metadata": {},
   "outputs": [
    {
     "name": "stderr",
     "output_type": "stream",
     "text": [
      "/home/gabriela/anaconda3/lib/python3.7/site-packages/ipykernel_launcher.py:1: UserWarning: Boolean Series key will be reindexed to match DataFrame index.\n",
      "  \"\"\"Entry point for launching an IPython kernel.\n"
     ]
    },
    {
     "data": {
      "text/plain": [
       "1    32\n",
       "0     4\n",
       "Name: is_present, dtype: int64"
      ]
     },
     "execution_count": 17,
     "metadata": {},
     "output_type": "execute_result"
    }
   ],
   "source": [
    "final_annotation_set[final_annotation_set.apply(lambda x: 'tools.wmflabs.org' in x['url'], axis=1)][final_annotation_set['language_crawl'] == 'es']['is_present'].value_counts()"
   ]
  },
  {
   "cell_type": "markdown",
   "metadata": {},
   "source": [
    "# Correct tools.wmflabs.org author/publisher annotation"
   ]
  },
  {
   "cell_type": "code",
   "execution_count": 18,
   "metadata": {},
   "outputs": [],
   "source": [
    "for i in final_annotation_set[final_annotation_set.apply(lambda x: 'tools.wmflabs.org' in x['url'], axis=1)].index:\n",
    "    if final_annotation_set.loc[i,'author'] == 3:\n",
    "        final_annotation_set.loc[i,'author'] = 2\n",
    "    if final_annotation_set.loc[i,'publisher'] == 5:\n",
    "        final_annotation_set.loc[i,'publisher'] = 4    \n",
    "    if final_annotation_set.loc[i,'long_sub_publisher'] == 5.0:\n",
    "        final_annotation_set.loc[i,'long_sub_publisher'] = 4.0        \n",
    "    if final_annotation_set.loc[i,'authoritative'] == \"Inaccessible\":\n",
    "        final_annotation_set.loc[i,'authoritative'] = \"No\""
   ]
  },
  {
   "cell_type": "markdown",
   "metadata": {},
   "source": [
    "# Remove non-informative and correlated features"
   ]
  },
  {
   "cell_type": "code",
   "execution_count": null,
   "metadata": {},
   "outputs": [],
   "source": []
  }
 ],
 "metadata": {
  "kernelspec": {
   "display_name": "Python 3",
   "language": "python",
   "name": "python3"
  },
  "language_info": {
   "codemirror_mode": {
    "name": "ipython",
    "version": 3
   },
   "file_extension": ".py",
   "mimetype": "text/x-python",
   "name": "python",
   "nbconvert_exporter": "python",
   "pygments_lexer": "ipython3",
   "version": "3.7.7"
  }
 },
 "nbformat": 4,
 "nbformat_minor": 4
}
